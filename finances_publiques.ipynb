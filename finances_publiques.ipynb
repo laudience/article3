{
 "cells": [
  {
   "cell_type": "code",
   "execution_count": 1,
   "metadata": {
    "collapsed": true
   },
   "outputs": [],
   "source": [
    "import requests\n",
    "import json\n",
    "from zipfile import ZipFile\n",
    "from utilitaires import *"
   ]
  },
  {
   "cell_type": "code",
   "execution_count": 2,
   "metadata": {
    "collapsed": false
   },
   "outputs": [],
   "source": [
    "class GetData:\n",
    "\n",
    "    def __init__(self, id):\n",
    "        self.url = 'https://www.data.gouv.fr/api/1/datasets/' + id\n",
    "        self.dataset = []\n",
    "        \n",
    "    def get_dataset_info(self):\n",
    "        print(self.url)\n",
    "        dataset_info_json = requests.get(self.url).json()\n",
    "        print('Number of datasets :', len(dataset_info_json['resources']))\n",
    "        \n",
    "        for dataset in dataset_info_json['resources']: #Save the datasets URL .zip\n",
    "            self.dataset.append({'title' : dataset['title'], 'url': dataset['url']})\n",
    "            print(dataset['title'], dataset['format'], dataset['url'])\n",
    "\n",
    "\n",
    "    def download(self):\n",
    "        self.get_dataset_info()\n",
    "        \n",
    "        for dataset in self.dataset:\n",
    "            zip_path = './datas/zipfiles/' + dataset['title'] + '.zip'\n",
    "            download_zip(dataset['url'], zip_path)\n",
    "\n",
    "            zipfile = ZipFile(zip_path)\n",
    "            zipfile.extractall(path='./datas')\n",
    "            file_list = zipfile.namelist()"
   ]
  },
  {
   "cell_type": "code",
   "execution_count": 3,
   "metadata": {
    "collapsed": false
   },
   "outputs": [
    {
     "name": "stdout",
     "output_type": "stream",
     "text": [
      "https://www.data.gouv.fr/api/1/datasets/58306906c751df14a8c0bb7e\n",
      "Number of datasets : 3\n",
      "La situation et les perspectives des finances publiques (3) CSV http://www.ccomptes.fr/content/download/96776/2224308/20160629-donnees-situation-perspectives-finances-publiques-3.zip\n",
      "La situation et les perspectives des finances publiques (2) csv http://www.ccomptes.fr/content/download/96775/2224298/20160629-donnees-situation-perspectives-finances-publiques-2.zip\n",
      "La situation et les perspectives des finances publiques csv http://www.ccomptes.fr/content/download/96774/2224288/20160629-donnees-situation-perspectives-finances-publiques-1.zip\n"
     ]
    }
   ],
   "source": [
    "finances_publiques = GetData('58306906c751df14a8c0bb7e')\n",
    "finances_publiques.get_dataset_info()"
   ]
  },
  {
   "cell_type": "code",
   "execution_count": 4,
   "metadata": {
    "collapsed": false
   },
   "outputs": [
    {
     "name": "stdout",
     "output_type": "stream",
     "text": [
      "https://www.data.gouv.fr/api/1/datasets/58306906c751df14a8c0bb7e\n",
      "Number of datasets : 3\n",
      "La situation et les perspectives des finances publiques (3) CSV http://www.ccomptes.fr/content/download/96776/2224308/20160629-donnees-situation-perspectives-finances-publiques-3.zip\n",
      "La situation et les perspectives des finances publiques (2) csv http://www.ccomptes.fr/content/download/96775/2224298/20160629-donnees-situation-perspectives-finances-publiques-2.zip\n",
      "La situation et les perspectives des finances publiques csv http://www.ccomptes.fr/content/download/96774/2224288/20160629-donnees-situation-perspectives-finances-publiques-1.zip\n"
     ]
    }
   ],
   "source": [
    "finances_publiques.download()"
   ]
  },
  {
   "cell_type": "code",
   "execution_count": null,
   "metadata": {
    "collapsed": false
   },
   "outputs": [],
   "source": []
  },
  {
   "cell_type": "code",
   "execution_count": null,
   "metadata": {
    "collapsed": false
   },
   "outputs": [],
   "source": []
  },
  {
   "cell_type": "code",
   "execution_count": null,
   "metadata": {
    "collapsed": false
   },
   "outputs": [],
   "source": []
  },
  {
   "cell_type": "code",
   "execution_count": null,
   "metadata": {
    "collapsed": true
   },
   "outputs": [],
   "source": []
  },
  {
   "cell_type": "code",
   "execution_count": null,
   "metadata": {
    "collapsed": true
   },
   "outputs": [],
   "source": []
  },
  {
   "cell_type": "code",
   "execution_count": null,
   "metadata": {
    "collapsed": true
   },
   "outputs": [],
   "source": []
  }
 ],
 "metadata": {
  "kernelspec": {
   "display_name": "Python 3",
   "language": "python",
   "name": "python3"
  },
  "language_info": {
   "codemirror_mode": {
    "name": "ipython",
    "version": 3
   },
   "file_extension": ".py",
   "mimetype": "text/x-python",
   "name": "python",
   "nbconvert_exporter": "python",
   "pygments_lexer": "ipython3",
   "version": "3.5.2"
  }
 },
 "nbformat": 4,
 "nbformat_minor": 0
}
