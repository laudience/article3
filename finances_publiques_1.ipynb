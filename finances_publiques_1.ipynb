{
 "cells": [
  {
   "cell_type": "markdown",
   "metadata": {},
   "source": [
    "# Finances publiques - 1"
   ]
  },
  {
   "cell_type": "code",
   "execution_count": 1,
   "metadata": {
    "collapsed": false
   },
   "outputs": [],
   "source": [
    "import csv, os\n",
    "import pandas as pd\n",
    "from plotly.offline import download_plotlyjs, init_notebook_mode, plot, iplot\n",
    "import plotly.graph_objs as go"
   ]
  },
  {
   "cell_type": "code",
   "execution_count": 2,
   "metadata": {
    "collapsed": false
   },
   "outputs": [
    {
     "name": "stdout",
     "output_type": "stream",
     "text": [
      "[\"1_1. le déficit et l'endettement .csv\", '1_10. capacité ou besoin fin ASSO.csv', '1_11. solde régime général et FSV.csv', '1_12. dette organismes sociaux.csv', \"1_13. norme de dépenses de l'Etat.csv\", '1_14. risques en dépenses.csv', '1_15. décomposition du solde pub,.csv', '1_16. prév. solde public.csv', '1_17. hyp macroéco Prog Stab.csv', '1_18. PO dans PIB.csv', '1_19. liste des revues de dépense.csv', '1_2. dépenses et recettes pub..csv', '1_20. croissance invmt pub..csv', '1_21. mesures éco. en 2015.csv', '1_22. mesures éco. plan 50 Md euros.csv', '1_23. calendrier de convergence.csv', '1_3.décomposition du déficit pub..csv', '1_4. capacité ou besoin de fin..csv', '1_5. dette publique APU.csv', '1_6. recettes fiscales nettes .csv', '1_7. évolution du solde des APUL.csv', '1_8. épargne brute APUL.csv', '1_9. dette des APUL.csv']\n"
     ]
    }
   ],
   "source": [
    "data_path = './datas/Situation et perspectives des finances publiques 2016_1/'\n",
    "file_list = os.listdir(data_path)\n",
    "print(file_list)"
   ]
  },
  {
   "cell_type": "code",
   "execution_count": 3,
   "metadata": {
    "collapsed": false
   },
   "outputs": [],
   "source": [
    "datas = {}\n",
    "for file in file_list:\n",
    "    datas[file.split('.')[0]] = {}\n",
    "    datas[file.split('.')[0]]['title'] = file\n",
    "    datas[file.split('.')[0]]['dataframe']  = pd.read_csv(data_path + file, sep=';', index_col=[0,1])"
   ]
  },
  {
   "cell_type": "code",
   "execution_count": null,
   "metadata": {
    "collapsed": false
   },
   "outputs": [],
   "source": []
  },
  {
   "cell_type": "markdown",
   "metadata": {
    "collapsed": false,
    "scrolled": false
   },
   "source": [
    "## 1. Le solde public\n",
    "cf. I-A-1 de <i> La situation et les perspectives des finances publiques - juin 2016 </i>\n",
    "\n",
    "Solde public = Recettes publiques - Dépenses publiques"
   ]
  },
  {
   "cell_type": "code",
   "execution_count": 4,
   "metadata": {
    "collapsed": false
   },
   "outputs": [
    {
     "data": {
      "text/html": [
       "<div>\n",
       "<table border=\"1\" class=\"dataframe\">\n",
       "  <thead>\n",
       "    <tr style=\"text-align: right;\">\n",
       "      <th></th>\n",
       "      <th></th>\n",
       "      <th>2010</th>\n",
       "      <th>2011</th>\n",
       "      <th>2012</th>\n",
       "      <th>2013</th>\n",
       "      <th>2014</th>\n",
       "      <th>2015</th>\n",
       "    </tr>\n",
       "    <tr>\n",
       "      <th></th>\n",
       "      <th>Categorie</th>\n",
       "      <th></th>\n",
       "      <th></th>\n",
       "      <th></th>\n",
       "      <th></th>\n",
       "      <th></th>\n",
       "      <th></th>\n",
       "    </tr>\n",
       "  </thead>\n",
       "  <tbody>\n",
       "    <tr>\n",
       "      <th>0</th>\n",
       "      <th>Dépenses publiques</th>\n",
       "      <td>56.4</td>\n",
       "      <td>55.9</td>\n",
       "      <td>56.8</td>\n",
       "      <td>57.0</td>\n",
       "      <td>57.3</td>\n",
       "      <td>57.0</td>\n",
       "    </tr>\n",
       "    <tr>\n",
       "      <th>1</th>\n",
       "      <th>dont crédits d’impôt</th>\n",
       "      <td>0.9</td>\n",
       "      <td>0.8</td>\n",
       "      <td>0.8</td>\n",
       "      <td>0.8</td>\n",
       "      <td>1.2</td>\n",
       "      <td>1.5</td>\n",
       "    </tr>\n",
       "    <tr>\n",
       "      <th>2</th>\n",
       "      <th>Recettes publiques</th>\n",
       "      <td>49.6</td>\n",
       "      <td>50.8</td>\n",
       "      <td>52.0</td>\n",
       "      <td>52.9</td>\n",
       "      <td>53.4</td>\n",
       "      <td>53.5</td>\n",
       "    </tr>\n",
       "    <tr>\n",
       "      <th>3</th>\n",
       "      <th>Prélèvements obligatoires</th>\n",
       "      <td>41.3</td>\n",
       "      <td>42.6</td>\n",
       "      <td>43.8</td>\n",
       "      <td>44.8</td>\n",
       "      <td>44.8</td>\n",
       "      <td>44.7</td>\n",
       "    </tr>\n",
       "  </tbody>\n",
       "</table>\n",
       "</div>"
      ],
      "text/plain": [
       "                             2010  2011  2012  2013  2014  2015\n",
       "  Categorie                                                    \n",
       "0 Dépenses publiques         56.4  55.9  56.8  57.0  57.3  57.0\n",
       "1 dont crédits d’impôt        0.9   0.8   0.8   0.8   1.2   1.5\n",
       "2 Recettes publiques         49.6  50.8  52.0  52.9  53.4  53.5\n",
       "3 Prélèvements obligatoires  41.3  42.6  43.8  44.8  44.8  44.7"
      ]
     },
     "execution_count": 4,
     "metadata": {},
     "output_type": "execute_result"
    }
   ],
   "source": [
    "data12 = datas['1_2']['dataframe']\n",
    "data_dict12 = data12.to_dict('index')\n",
    "data12.head()"
   ]
  },
  {
   "cell_type": "code",
   "execution_count": 5,
   "metadata": {
    "collapsed": false
   },
   "outputs": [
    {
     "data": {
      "text/html": [
       "<script>requirejs.config({paths: { 'plotly': ['https://cdn.plot.ly/plotly-latest.min']},});if(!window.Plotly) {{require(['plotly'],function(plotly) {window.Plotly=plotly;});}}</script>"
      ],
      "text/plain": [
       "<IPython.core.display.HTML object>"
      ]
     },
     "metadata": {},
     "output_type": "display_data"
    },
    {
     "data": {
      "text/html": [
       "<div id=\"f51a9f18-efa0-496a-89e7-b89ffe100aca\" style=\"height: 525px; width: 100%;\" class=\"plotly-graph-div\"></div><script type=\"text/javascript\">require([\"plotly\"], function(Plotly) { window.PLOTLYENV=window.PLOTLYENV || {};window.PLOTLYENV.BASE_URL=\"https://plot.ly\";Plotly.newPlot(\"f51a9f18-efa0-496a-89e7-b89ffe100aca\", [{\"y\": [56.4, 55.9, 56.8, 57.0, 57.3, 57.0], \"name\": \"D\\u00e9penses publiques (points de PIB)\", \"mode\": \"lines+markers\", \"marker\": {\"size\": 5}, \"type\": \"scatter\", \"x\": [\"2010\", \"2011\", \"2012\", \"2013\", \"2014\", \"2015\"]}, {\"y\": [49.6, 50.8, 52.0, 52.9, 53.4, 53.5], \"name\": \"Recettes publiques (points de PIB)\", \"mode\": \"lines+markers\", \"marker\": {\"size\": 5}, \"type\": \"scatter\", \"x\": [\"2010\", \"2011\", \"2012\", \"2013\", \"2014\", \"2015\"]}], {}, {\"linkText\": \"Export to plot.ly\", \"showLink\": true})});</script>"
      ],
      "text/plain": [
       "<IPython.core.display.HTML object>"
      ]
     },
     "metadata": {},
     "output_type": "display_data"
    }
   ],
   "source": [
    "trace1 = go.Scatter(x = [year for year in data12.columns.values], y = [data_dict12[(0, 'Dépenses publiques')][year] for year in data12.columns.values], mode = 'lines+markers', name = 'Dépenses publiques (points de PIB)', marker=dict(size=5))\n",
    "trace2 = go.Scatter(x = [year for year in data12.columns.values], y = [data_dict12[(2, 'Recettes publiques')][year] for year in data12.columns.values], mode = 'lines+markers', name = 'Recettes publiques (points de PIB)', marker=dict(size=5))\n",
    "\n",
    "fig = [trace1, trace2]\n",
    "init_notebook_mode(connected=True)\n",
    "iplot(fig)"
   ]
  },
  {
   "cell_type": "code",
   "execution_count": 6,
   "metadata": {
    "collapsed": false
   },
   "outputs": [
    {
     "data": {
      "text/html": [
       "<script>requirejs.config({paths: { 'plotly': ['https://cdn.plot.ly/plotly-latest.min']},});if(!window.Plotly) {{require(['plotly'],function(plotly) {window.Plotly=plotly;});}}</script>"
      ],
      "text/plain": [
       "<IPython.core.display.HTML object>"
      ]
     },
     "metadata": {},
     "output_type": "display_data"
    },
    {
     "data": {
      "text/html": [
       "<div id=\"66c424c4-5b7a-47e4-97d4-f67a67421273\" style=\"height: 525px; width: 100%;\" class=\"plotly-graph-div\"></div><script type=\"text/javascript\">require([\"plotly\"], function(Plotly) { window.PLOTLYENV=window.PLOTLYENV || {};window.PLOTLYENV.BASE_URL=\"https://plot.ly\";Plotly.newPlot(\"66c424c4-5b7a-47e4-97d4-f67a67421273\", [{\"y\": [56.4, 55.9, 56.8, 57.0, 57.3, 57.0], \"name\": \"D\\u00e9penses publiques\", \"mode\": \"lines+markers\", \"marker\": {\"size\": 5}, \"type\": \"scatter\", \"x\": [\"2010\", \"2011\", \"2012\", \"2013\", \"2014\", \"2015\"]}, {\"y\": [49.6, 50.8, 52.0, 52.9, 53.4, 53.5], \"name\": \"Recettes publiques\", \"mode\": \"lines+markers\", \"marker\": {\"size\": 5}, \"type\": \"scatter\", \"x\": [\"2010\", \"2011\", \"2012\", \"2013\", \"2014\", \"2015\"]}, {\"y\": [-6.799999999999997, -5.100000000000001, -4.799999999999997, -4.100000000000001, -3.8999999999999986, -3.5], \"name\": \"Recettes publiques - D\\u00e9penses publiques\", \"mode\": \"lines+markers\", \"marker\": {\"size\": 5}, \"type\": \"scatter\", \"x\": [\"2010\", \"2011\", \"2012\", \"2013\", \"2014\", \"2015\"]}], {}, {\"linkText\": \"Export to plot.ly\", \"showLink\": true})});</script>"
      ],
      "text/plain": [
       "<IPython.core.display.HTML object>"
      ]
     },
     "metadata": {},
     "output_type": "display_data"
    }
   ],
   "source": [
    "trace1 = go.Scatter(x = [year for year in data12.columns.values], y = [data_dict12[(0, 'Dépenses publiques')][year] for year in data12.columns.values], mode = 'lines+markers', name = 'Dépenses publiques', marker=dict(size=5))\n",
    "trace2 = go.Scatter(x = [year for year in data12.columns.values], y = [data_dict12[(2, 'Recettes publiques')][year] for year in data12.columns.values], mode = 'lines+markers', name = 'Recettes publiques', marker=dict(size=5))\n",
    "trace3 = go.Scatter(x = [year for year in data12.columns.values], y = [data_dict12[(2, 'Recettes publiques')][year] - data_dict12[(0, 'Dépenses publiques')][year] for year in data12.columns.values], mode = 'lines+markers', name = 'Recettes publiques - Dépenses publiques', marker=dict(size=5))\n",
    "\n",
    "fig = [trace1, trace2,trace3]\n",
    "init_notebook_mode(connected=True)\n",
    "iplot(fig)"
   ]
  },
  {
   "cell_type": "code",
   "execution_count": 7,
   "metadata": {
    "collapsed": false
   },
   "outputs": [
    {
     "data": {
      "text/html": [
       "<div>\n",
       "<table border=\"1\" class=\"dataframe\">\n",
       "  <thead>\n",
       "    <tr style=\"text-align: right;\">\n",
       "      <th></th>\n",
       "      <th></th>\n",
       "      <th>2010</th>\n",
       "      <th>2011</th>\n",
       "      <th>2012</th>\n",
       "      <th>2013</th>\n",
       "      <th>2014</th>\n",
       "      <th>2015</th>\n",
       "    </tr>\n",
       "    <tr>\n",
       "      <th></th>\n",
       "      <th>Categorie</th>\n",
       "      <th></th>\n",
       "      <th></th>\n",
       "      <th></th>\n",
       "      <th></th>\n",
       "      <th></th>\n",
       "      <th></th>\n",
       "    </tr>\n",
       "  </thead>\n",
       "  <tbody>\n",
       "    <tr>\n",
       "      <th>0</th>\n",
       "      <th>Solde public (Md€)</th>\n",
       "      <td>-136.0</td>\n",
       "      <td>-105.0</td>\n",
       "      <td>-100.0</td>\n",
       "      <td>-85.0</td>\n",
       "      <td>-85.0</td>\n",
       "      <td>-77.0</td>\n",
       "    </tr>\n",
       "    <tr>\n",
       "      <th>1</th>\n",
       "      <th>Solde public (points de PIB)</th>\n",
       "      <td>-6.8</td>\n",
       "      <td>-5.1</td>\n",
       "      <td>-4.8</td>\n",
       "      <td>-4.0</td>\n",
       "      <td>-4.0</td>\n",
       "      <td>-3.6</td>\n",
       "    </tr>\n",
       "    <tr>\n",
       "      <th>2</th>\n",
       "      <th>Dette publique (Md€)</th>\n",
       "      <td>1633.0</td>\n",
       "      <td>1755.0</td>\n",
       "      <td>1869.0</td>\n",
       "      <td>1954.0</td>\n",
       "      <td>2040.0</td>\n",
       "      <td>2097.0</td>\n",
       "    </tr>\n",
       "    <tr>\n",
       "      <th>3</th>\n",
       "      <th>Dette publique (points de PIB)</th>\n",
       "      <td>81.7</td>\n",
       "      <td>85.2</td>\n",
       "      <td>89.6</td>\n",
       "      <td>92.4</td>\n",
       "      <td>95.3</td>\n",
       "      <td>96.1</td>\n",
       "    </tr>\n",
       "    <tr>\n",
       "      <th>4</th>\n",
       "      <th>Pour mémoire : croissance du PIB (volume, en %)</th>\n",
       "      <td>2.0</td>\n",
       "      <td>2.1</td>\n",
       "      <td>0.2</td>\n",
       "      <td>0.6</td>\n",
       "      <td>0.6</td>\n",
       "      <td>1.3</td>\n",
       "    </tr>\n",
       "  </tbody>\n",
       "</table>\n",
       "</div>"
      ],
      "text/plain": [
       "                                                     2010    2011    2012  \\\n",
       "  Categorie                                                                 \n",
       "0 Solde public (Md€)                               -136.0  -105.0  -100.0   \n",
       "1 Solde public (points de PIB)                       -6.8    -5.1    -4.8   \n",
       "2 Dette publique (Md€)                             1633.0  1755.0  1869.0   \n",
       "3 Dette publique (points de PIB)                     81.7    85.2    89.6   \n",
       "4 Pour mémoire : croissance du PIB (volume, en %)     2.0     2.1     0.2   \n",
       "\n",
       "                                                     2013    2014    2015  \n",
       "  Categorie                                                                \n",
       "0 Solde public (Md€)                                -85.0   -85.0   -77.0  \n",
       "1 Solde public (points de PIB)                       -4.0    -4.0    -3.6  \n",
       "2 Dette publique (Md€)                             1954.0  2040.0  2097.0  \n",
       "3 Dette publique (points de PIB)                     92.4    95.3    96.1  \n",
       "4 Pour mémoire : croissance du PIB (volume, en %)     0.6     0.6     1.3  "
      ]
     },
     "execution_count": 7,
     "metadata": {},
     "output_type": "execute_result"
    }
   ],
   "source": [
    "data11 = datas['1_1']['dataframe']\n",
    "data_dict11 = data11.to_dict('index')\n",
    "data11.head()"
   ]
  },
  {
   "cell_type": "code",
   "execution_count": 8,
   "metadata": {
    "collapsed": false
   },
   "outputs": [
    {
     "data": {
      "text/html": [
       "<script>requirejs.config({paths: { 'plotly': ['https://cdn.plot.ly/plotly-latest.min']},});if(!window.Plotly) {{require(['plotly'],function(plotly) {window.Plotly=plotly;});}}</script>"
      ],
      "text/plain": [
       "<IPython.core.display.HTML object>"
      ]
     },
     "metadata": {},
     "output_type": "display_data"
    },
    {
     "data": {
      "text/html": [
       "<div id=\"7410903f-6e15-4a6f-b63b-a8b6f06f8f43\" style=\"height: 525px; width: 100%;\" class=\"plotly-graph-div\"></div><script type=\"text/javascript\">require([\"plotly\"], function(Plotly) { window.PLOTLYENV=window.PLOTLYENV || {};window.PLOTLYENV.BASE_URL=\"https://plot.ly\";Plotly.newPlot(\"7410903f-6e15-4a6f-b63b-a8b6f06f8f43\", [{\"y\": [-6.8, -5.1, -4.8, -4.0, -4.0, -3.6], \"name\": \"Solde public (points de PIB)\", \"mode\": \"lines+markers\", \"marker\": {\"size\": 5}, \"type\": \"scatter\", \"x\": [\"2010\", \"2011\", \"2012\", \"2013\", \"2014\", \"2015\"]}, {\"y\": [81.7, 85.2, 89.6, 92.4, 95.3, 96.1], \"name\": \"Dette publique (points de PIB)\", \"mode\": \"lines+markers\", \"marker\": {\"size\": 5}, \"type\": \"scatter\", \"x\": [\"2010\", \"2011\", \"2012\", \"2013\", \"2014\", \"2015\"]}, {\"y\": [12.056737588652483, 9.123434704830053, 8.450704225352114, 7.017543859649122, 6.980802792321117, 6.315789473684211], \"name\": \"Solde/D\\u00e9penses (%)\", \"mode\": \"lines+markers\", \"marker\": {\"size\": 5}, \"type\": \"scatter\", \"x\": [\"2010\", \"2011\", \"2012\", \"2013\", \"2014\", \"2015\"]}], {}, {\"linkText\": \"Export to plot.ly\", \"showLink\": true})});</script>"
      ],
      "text/plain": [
       "<IPython.core.display.HTML object>"
      ]
     },
     "metadata": {},
     "output_type": "display_data"
    }
   ],
   "source": [
    "trace1 = go.Scatter(x = [year for year in data11.columns.values], y = [data_dict11[(1, 'Solde public (points de PIB)')][year] for year in data11.columns.values], mode = 'lines+markers', name = 'Solde public (points de PIB)', marker=dict(size=5))\n",
    "trace2 = go.Scatter(x = [year for year in data11.columns.values], y = [data_dict11[(3, 'Dette publique (points de PIB)')][year] for year in data11.columns.values], mode = 'lines+markers', name = 'Dette publique (points de PIB)', marker=dict(size=5))\n",
    "trace3 = go.Scatter(x = [year for year in data11.columns.values], y = [-100*data_dict11[(1, 'Solde public (points de PIB)')][year]/data_dict12[(0, 'Dépenses publiques')][year]  for year in data11.columns.values], mode = 'lines+markers', name = 'Solde/Dépenses (%)', marker=dict(size=5))\n",
    "\n",
    "fig = [trace1, trace2, trace3]\n",
    "init_notebook_mode(connected=True)\n",
    "iplot(fig)"
   ]
  },
  {
   "cell_type": "markdown",
   "metadata": {
    "collapsed": true
   },
   "source": [
    "Solde public représente 6% des Dépenses publiques, soit 1 mois de financement qui doit être emprunté.\n",
    "\n",
    "## 2. Prélèvements obligatoires\n",
    "cf I-B-2\n",
    "\n",
    "### 2.1. Recettes et prévelèment obligatoires"
   ]
  },
  {
   "cell_type": "code",
   "execution_count": 9,
   "metadata": {
    "collapsed": false
   },
   "outputs": [
    {
     "name": "stdout",
     "output_type": "stream",
     "text": [
      "1_18. PO dans PIB.csv\n"
     ]
    },
    {
     "data": {
      "text/html": [
       "<div>\n",
       "<table border=\"1\" class=\"dataframe\">\n",
       "  <thead>\n",
       "    <tr style=\"text-align: right;\">\n",
       "      <th></th>\n",
       "      <th></th>\n",
       "      <th>2015</th>\n",
       "      <th>2016</th>\n",
       "      <th>2017</th>\n",
       "      <th>2018</th>\n",
       "      <th>2019</th>\n",
       "    </tr>\n",
       "    <tr>\n",
       "      <th></th>\n",
       "      <th>Categorie</th>\n",
       "      <th></th>\n",
       "      <th></th>\n",
       "      <th></th>\n",
       "      <th></th>\n",
       "      <th></th>\n",
       "    </tr>\n",
       "  </thead>\n",
       "  <tbody>\n",
       "    <tr>\n",
       "      <th>0</th>\n",
       "      <th>Prélèvements obligatoires</th>\n",
       "      <td>45.7</td>\n",
       "      <td>45.3</td>\n",
       "      <td>45.2</td>\n",
       "      <td>45.0</td>\n",
       "      <td>44.8</td>\n",
       "    </tr>\n",
       "    <tr>\n",
       "      <th>1</th>\n",
       "      <th>Recettes publiques</th>\n",
       "      <td>53.2</td>\n",
       "      <td>52.8</td>\n",
       "      <td>52.7</td>\n",
       "      <td>52.5</td>\n",
       "      <td>52.3</td>\n",
       "    </tr>\n",
       "  </tbody>\n",
       "</table>\n",
       "</div>"
      ],
      "text/plain": [
       "                             2015  2016  2017  2018  2019\n",
       "  Categorie                                              \n",
       "0 Prélèvements obligatoires  45.7  45.3  45.2  45.0  44.8\n",
       "1 Recettes publiques         53.2  52.8  52.7  52.5  52.3"
      ]
     },
     "execution_count": 9,
     "metadata": {},
     "output_type": "execute_result"
    }
   ],
   "source": [
    "data118 = datas['1_18']['dataframe']\n",
    "data_dict118 = data118.to_dict('index')\n",
    "print(datas['1_18']['title'])\n",
    "datas['1_18']['dataframe'].head()"
   ]
  },
  {
   "cell_type": "code",
   "execution_count": 10,
   "metadata": {
    "collapsed": false
   },
   "outputs": [
    {
     "data": {
      "text/html": [
       "<script>requirejs.config({paths: { 'plotly': ['https://cdn.plot.ly/plotly-latest.min']},});if(!window.Plotly) {{require(['plotly'],function(plotly) {window.Plotly=plotly;});}}</script>"
      ],
      "text/plain": [
       "<IPython.core.display.HTML object>"
      ]
     },
     "metadata": {},
     "output_type": "display_data"
    },
    {
     "data": {
      "text/html": [
       "<div id=\"443707b5-e10f-4ac8-9ab7-5c3f1bb2a131\" style=\"height: 525px; width: 100%;\" class=\"plotly-graph-div\"></div><script type=\"text/javascript\">require([\"plotly\"], function(Plotly) { window.PLOTLYENV=window.PLOTLYENV || {};window.PLOTLYENV.BASE_URL=\"https://plot.ly\";Plotly.newPlot(\"443707b5-e10f-4ac8-9ab7-5c3f1bb2a131\", [{\"y\": [41.3, 42.6, 43.8, 44.8, 44.8, 44.7], \"name\": \"Pr\\u00e9l\\u00e8vements obligatoires (points de PIB)\", \"mode\": \"lines+markers\", \"marker\": {\"size\": 5}, \"type\": \"scatter\", \"x\": [\"2010\", \"2011\", \"2012\", \"2013\", \"2014\", \"2015\"]}, {\"y\": [45.7, 45.3, 45.2, 45.0, 44.8], \"name\": \"Pr\\u00e9visions Pr\\u00e9l\\u00e8vements obligatoires (points de PIB)\", \"mode\": \"lines+markers\", \"marker\": {\"size\": 5}, \"type\": \"scatter\", \"x\": [\"2015\", \"2016\", \"2017\", \"2018\", \"2019\"]}, {\"y\": [49.6, 50.8, 52.0, 52.9, 53.4, 53.5], \"name\": \"Recettes publiques (points de PIB)\", \"mode\": \"lines+markers\", \"marker\": {\"size\": 5}, \"type\": \"scatter\", \"x\": [\"2010\", \"2011\", \"2012\", \"2013\", \"2014\", \"2015\"]}, {\"y\": [53.2, 52.8, 52.7, 52.5, 52.3], \"name\": \"Pr\\u00e9visions Recettes publiques (points de PIB)\", \"mode\": \"lines+markers\", \"marker\": {\"size\": 5}, \"type\": \"scatter\", \"x\": [\"2015\", \"2016\", \"2017\", \"2018\", \"2019\"]}], {}, {\"linkText\": \"Export to plot.ly\", \"showLink\": true})});</script>"
      ],
      "text/plain": [
       "<IPython.core.display.HTML object>"
      ]
     },
     "metadata": {},
     "output_type": "display_data"
    }
   ],
   "source": [
    "trace1 = go.Scatter(x = [year for year in data12.columns.values], y = [data_dict12[(3, 'Prélèvements obligatoires')][year] for year in data12.columns.values], mode = 'lines+markers', name = 'Prélèvements obligatoires (points de PIB)', marker=dict(size=5))\n",
    "trace2 = go.Scatter(x = [year for year in data118.columns.values], y = [data_dict118[(0, 'Prélèvements obligatoires')][year] for year in data118.columns.values], mode = 'lines+markers', name = 'Prévisions Prélèvements obligatoires (points de PIB)', marker=dict(size=5))\n",
    "trace3 = go.Scatter(x = [year for year in data12.columns.values], y = [data_dict12[(2, 'Recettes publiques')][year] for year in data12.columns.values], mode = 'lines+markers', name = 'Recettes publiques (points de PIB)', marker=dict(size=5))\n",
    "trace4 = go.Scatter(x = [year for year in data118.columns.values], y = [data_dict118[(1, 'Recettes publiques')][year] for year in data118.columns.values], mode = 'lines+markers', name = 'Prévisions Recettes publiques (points de PIB)', marker=dict(size=5))\n",
    "fig = [trace1, trace2, trace3, trace4]\n",
    "init_notebook_mode(connected=True)\n",
    "iplot(fig)"
   ]
  },
  {
   "cell_type": "markdown",
   "metadata": {},
   "source": [
    "- Pourquoi un tel décalage entre prévisions et réalité pour 2014 ?\n",
    "- Comment se fait-il que l'on prévoit une hausse des prélèvements et un baisse des recettes à la fois ?\n",
    "\n",
    "### 2.2. Composition des prélèvements obligatoires"
   ]
  },
  {
   "cell_type": "code",
   "execution_count": 11,
   "metadata": {
    "collapsed": false
   },
   "outputs": [
    {
     "name": "stdout",
     "output_type": "stream",
     "text": [
      "1_6. recettes fiscales nettes .csv\n"
     ]
    },
    {
     "data": {
      "text/html": [
       "<div>\n",
       "<table border=\"1\" class=\"dataframe\">\n",
       "  <thead>\n",
       "    <tr style=\"text-align: right;\">\n",
       "      <th></th>\n",
       "      <th></th>\n",
       "      <th>Exécution 2014</th>\n",
       "      <th>Évolution spontanée</th>\n",
       "      <th>Mesures nouvelles, de périmètre et de transfert</th>\n",
       "      <th>Exécution 2015</th>\n",
       "    </tr>\n",
       "    <tr>\n",
       "      <th></th>\n",
       "      <th>Désignation des recettes (en Md€)</th>\n",
       "      <th></th>\n",
       "      <th></th>\n",
       "      <th></th>\n",
       "      <th></th>\n",
       "    </tr>\n",
       "  </thead>\n",
       "  <tbody>\n",
       "    <tr>\n",
       "      <th>0</th>\n",
       "      <th>Recettes fiscales nettes (total)</th>\n",
       "      <td>274.3</td>\n",
       "      <td>4.7</td>\n",
       "      <td>1.1</td>\n",
       "      <td>280.1</td>\n",
       "    </tr>\n",
       "    <tr>\n",
       "      <th>1</th>\n",
       "      <th>1. Impôt sur le revenu net</th>\n",
       "      <td>69.2</td>\n",
       "      <td>1.3</td>\n",
       "      <td>-1.2</td>\n",
       "      <td>69.3</td>\n",
       "    </tr>\n",
       "    <tr>\n",
       "      <th>2</th>\n",
       "      <th>2. Impôt sur les sociétés net</th>\n",
       "      <td>35.3</td>\n",
       "      <td>0.3</td>\n",
       "      <td>-2.1</td>\n",
       "      <td>33.5</td>\n",
       "    </tr>\n",
       "    <tr>\n",
       "      <th>3</th>\n",
       "      <th>3. TICPE</th>\n",
       "      <td>13.2</td>\n",
       "      <td>0.1</td>\n",
       "      <td>0.5</td>\n",
       "      <td>13.8</td>\n",
       "    </tr>\n",
       "    <tr>\n",
       "      <th>4</th>\n",
       "      <th>4. Taxe sur la valeur ajoutée nette</th>\n",
       "      <td>138.4</td>\n",
       "      <td>1.2</td>\n",
       "      <td>2.2</td>\n",
       "      <td>141.8</td>\n",
       "    </tr>\n",
       "  </tbody>\n",
       "</table>\n",
       "</div>"
      ],
      "text/plain": [
       "                                       Exécution 2014  Évolution spontanée  \\\n",
       "  Désignation des recettes (en Md€)                                          \n",
       "0 Recettes fiscales nettes (total)              274.3                  4.7   \n",
       "1 1. Impôt sur le revenu net                     69.2                  1.3   \n",
       "2 2. Impôt sur les sociétés net                  35.3                  0.3   \n",
       "3 3. TICPE                                       13.2                  0.1   \n",
       "4 4. Taxe sur la valeur ajoutée nette           138.4                  1.2   \n",
       "\n",
       "                                       Mesures nouvelles, de périmètre et de transfert  \\\n",
       "  Désignation des recettes (en Md€)                                                      \n",
       "0 Recettes fiscales nettes (total)                                                 1.1   \n",
       "1 1. Impôt sur le revenu net                                                      -1.2   \n",
       "2 2. Impôt sur les sociétés net                                                   -2.1   \n",
       "3 3. TICPE                                                                         0.5   \n",
       "4 4. Taxe sur la valeur ajoutée nette                                              2.2   \n",
       "\n",
       "                                       Exécution 2015  \n",
       "  Désignation des recettes (en Md€)                    \n",
       "0 Recettes fiscales nettes (total)              280.1  \n",
       "1 1. Impôt sur le revenu net                     69.3  \n",
       "2 2. Impôt sur les sociétés net                  33.5  \n",
       "3 3. TICPE                                       13.8  \n",
       "4 4. Taxe sur la valeur ajoutée nette           141.8  "
      ]
     },
     "execution_count": 11,
     "metadata": {},
     "output_type": "execute_result"
    }
   ],
   "source": [
    "print(datas['1_6']['title'])\n",
    "datas['1_6']['dataframe'].head()"
   ]
  },
  {
   "cell_type": "code",
   "execution_count": 12,
   "metadata": {
    "collapsed": false
   },
   "outputs": [
    {
     "name": "stdout",
     "output_type": "stream",
     "text": [
      "1_2. dépenses et recettes pub..csv\n"
     ]
    },
    {
     "data": {
      "text/html": [
       "<div>\n",
       "<table border=\"1\" class=\"dataframe\">\n",
       "  <thead>\n",
       "    <tr style=\"text-align: right;\">\n",
       "      <th></th>\n",
       "      <th></th>\n",
       "      <th>2010</th>\n",
       "      <th>2011</th>\n",
       "      <th>2012</th>\n",
       "      <th>2013</th>\n",
       "      <th>2014</th>\n",
       "      <th>2015</th>\n",
       "    </tr>\n",
       "    <tr>\n",
       "      <th></th>\n",
       "      <th>Categorie</th>\n",
       "      <th></th>\n",
       "      <th></th>\n",
       "      <th></th>\n",
       "      <th></th>\n",
       "      <th></th>\n",
       "      <th></th>\n",
       "    </tr>\n",
       "  </thead>\n",
       "  <tbody>\n",
       "    <tr>\n",
       "      <th>0</th>\n",
       "      <th>Dépenses publiques</th>\n",
       "      <td>56.4</td>\n",
       "      <td>55.9</td>\n",
       "      <td>56.8</td>\n",
       "      <td>57.0</td>\n",
       "      <td>57.3</td>\n",
       "      <td>57.0</td>\n",
       "    </tr>\n",
       "    <tr>\n",
       "      <th>1</th>\n",
       "      <th>dont crédits d’impôt</th>\n",
       "      <td>0.9</td>\n",
       "      <td>0.8</td>\n",
       "      <td>0.8</td>\n",
       "      <td>0.8</td>\n",
       "      <td>1.2</td>\n",
       "      <td>1.5</td>\n",
       "    </tr>\n",
       "    <tr>\n",
       "      <th>2</th>\n",
       "      <th>Recettes publiques</th>\n",
       "      <td>49.6</td>\n",
       "      <td>50.8</td>\n",
       "      <td>52.0</td>\n",
       "      <td>52.9</td>\n",
       "      <td>53.4</td>\n",
       "      <td>53.5</td>\n",
       "    </tr>\n",
       "    <tr>\n",
       "      <th>3</th>\n",
       "      <th>Prélèvements obligatoires</th>\n",
       "      <td>41.3</td>\n",
       "      <td>42.6</td>\n",
       "      <td>43.8</td>\n",
       "      <td>44.8</td>\n",
       "      <td>44.8</td>\n",
       "      <td>44.7</td>\n",
       "    </tr>\n",
       "  </tbody>\n",
       "</table>\n",
       "</div>"
      ],
      "text/plain": [
       "                             2010  2011  2012  2013  2014  2015\n",
       "  Categorie                                                    \n",
       "0 Dépenses publiques         56.4  55.9  56.8  57.0  57.3  57.0\n",
       "1 dont crédits d’impôt        0.9   0.8   0.8   0.8   1.2   1.5\n",
       "2 Recettes publiques         49.6  50.8  52.0  52.9  53.4  53.5\n",
       "3 Prélèvements obligatoires  41.3  42.6  43.8  44.8  44.8  44.7"
      ]
     },
     "execution_count": 12,
     "metadata": {},
     "output_type": "execute_result"
    }
   ],
   "source": [
    "print(datas['1_2']['title'])\n",
    "datas['1_2']['dataframe'].head()"
   ]
  },
  {
   "cell_type": "code",
   "execution_count": null,
   "metadata": {
    "collapsed": false
   },
   "outputs": [],
   "source": []
  },
  {
   "cell_type": "code",
   "execution_count": null,
   "metadata": {
    "collapsed": false
   },
   "outputs": [],
   "source": []
  },
  {
   "cell_type": "code",
   "execution_count": null,
   "metadata": {
    "collapsed": true
   },
   "outputs": [],
   "source": []
  }
 ],
 "metadata": {
  "kernelspec": {
   "display_name": "Python 3",
   "language": "python",
   "name": "python3"
  },
  "language_info": {
   "codemirror_mode": {
    "name": "ipython",
    "version": 3
   },
   "file_extension": ".py",
   "mimetype": "text/x-python",
   "name": "python",
   "nbconvert_exporter": "python",
   "pygments_lexer": "ipython3",
   "version": "3.5.2"
  }
 },
 "nbformat": 4,
 "nbformat_minor": 0
}
